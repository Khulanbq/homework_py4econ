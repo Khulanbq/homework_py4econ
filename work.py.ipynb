{
 "cells": [
  {
   "cell_type": "code",
   "execution_count": 2,
   "id": "dc67cdf6",
   "metadata": {},
   "outputs": [
    {
     "name": "stdout",
     "output_type": "stream",
     "text": [
      "Hello python\n"
     ]
    }
   ],
   "source": [
    "# it is an example\n",
    "msg = \"Goyeanaa\"\n",
    "print(msg)"
   ]
  },
  {
   "cell_type": "code",
   "execution_count": 4,
   "id": "db29b1c5",
   "metadata": {},
   "outputs": [
    {
     "name": "stdout",
     "output_type": "stream",
     "text": [
      "a is:  22\n"
     ]
    }
   ],
   "source": [
    "a = 22\n",
    "print('a is: ', a)"
   ]
  },
  {
   "cell_type": "code",
   "execution_count": null,
   "id": "e92f7a66",
   "metadata": {},
   "outputs": [],
   "source": [
    "# it is also an example\n",
    "print('Lower in format a is: {}'.format(a))"
   ]
  },
  {
   "cell_type": "code",
   "execution_count": null,
   "id": "8f9299e4",
   "metadata": {
    "scrolled": false
   },
   "outputs": [],
   "source": [
    "2**7"
   ]
  },
  {
   "cell_type": "code",
   "execution_count": null,
   "id": "7e6b6963",
   "metadata": {},
   "outputs": [],
   "source": [
    "# boolean\n",
    "my_condition0 = True\n",
    "my_condition1 = False"
   ]
  },
  {
   "cell_type": "code",
   "execution_count": null,
   "id": "8ac5d7d4",
   "metadata": {},
   "outputs": [],
   "source": [
    "# m = input(\"Enter a number: \")\n",
    "age = input(\"How old are you?\")\n",
    "print(\"You entered: \" + str(age) + '. Done!')"
   ]
  }
 ],
 "metadata": {
  "kernelspec": {
   "display_name": "Python 3 (ipykernel)",
   "language": "python",
   "name": "python3"
  },
  "language_info": {
   "codemirror_mode": {
    "name": "ipython",
    "version": 3
   },
   "file_extension": ".py",
   "mimetype": "text/x-python",
   "name": "python",
   "nbconvert_exporter": "python",
   "pygments_lexer": "ipython3",
   "version": "3.9.7"
  }
 },
 "nbformat": 4,
 "nbformat_minor": 5
}
